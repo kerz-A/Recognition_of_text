{
 "cells": [
  {
   "metadata": {
    "ExecuteTime": {
     "end_time": "2025-01-17T09:39:52.361690Z",
     "start_time": "2025-01-17T09:39:52.357797Z"
    }
   },
   "cell_type": "code",
   "source": "import os",
   "id": "5c79d7ed7f0e12d6",
   "outputs": [],
   "execution_count": 2
  },
  {
   "cell_type": "code",
   "id": "initial_id",
   "metadata": {
    "collapsed": true,
    "ExecuteTime": {
     "end_time": "2025-01-13T18:08:13.399718Z",
     "start_time": "2025-01-13T18:08:12.851717Z"
    }
   },
   "source": [
    "# Путь к папке с аннотациями\n",
    "annotation_file = r\"C:\\Users\\abram\\DataspellProjects\\FinetuningEasyOCR\\dataset\\ch4_test_localization_transcription_gt\"\n",
    "\n",
    "# Путь для сохранения результата\n",
    "output_file = \"extracted_words_all_test.txt\"\n",
    "\n",
    "# Словарь для хранения слов по изображениям\n",
    "image_to_words = {}\n",
    "\n",
    "# Обход всех файлов в папке\n",
    "for file_name in os.listdir(annotation_file):\n",
    "    if file_name.endswith(\".txt\"):  # Проверяем, что это текстовый файл\n",
    "        file_path = os.path.join(annotation_file, file_name)\n",
    "        image_name = file_name.replace(\"gt_\", \"\").replace(\".txt\", \".jpg\")  # Преобразуем имя файла в имя изображения\n",
    "        with open(file_path, \"r\", encoding=\"utf-8\") as file:\n",
    "            lines = file.readlines()\n",
    "            words = []\n",
    "            for line in lines:\n",
    "                # Разделяем строку на координаты и слово\n",
    "                parts = line.strip().split(\",\")\n",
    "                if len(parts) >= 9:  # Проверяем, есть ли слово (9-я часть)\n",
    "                    word = parts[-1]  # Последняя часть строки — это слово\n",
    "                    if word != \"###\":  # Исключаем строки с '###'\n",
    "                        words.append(word)\n",
    "            image_to_words[image_name] = words\n",
    "\n",
    "# Сохраняем все извлечённые слова в файл с привязкой к изображениям\n",
    "with open(output_file, \"w\", encoding=\"utf-8\") as out_file:\n",
    "    for image_name, words in image_to_words.items():\n",
    "        out_file.write(f\"{image_name}: {' '.join(words)}\\n\")\n",
    "\n",
    "print(f\"Слова из всех файлов успешно извлечены и сохранены в файл: {output_file}\")"
   ],
   "outputs": [
    {
     "name": "stdout",
     "output_type": "stream",
     "text": [
      "Слова из всех файлов успешно извлечены и сохранены в файл: extracted_words_all_test.txt\n"
     ]
    }
   ],
   "execution_count": 4
  },
  {
   "metadata": {
    "ExecuteTime": {
     "end_time": "2025-01-17T09:42:32.791415Z",
     "start_time": "2025-01-17T09:42:32.697515Z"
    }
   },
   "cell_type": "code",
   "source": [
    "def convert_to_yolo_format(x_min, y_min, x_max, y_max, img_width, img_height):\n",
    "    # Вычисляем центр bounding box\n",
    "    x_center = (x_min + x_max) / 2.0\n",
    "    y_center = (y_min + y_max) / 2.0\n",
    "\n",
    "    # Вычисляем ширину и высоту bounding box\n",
    "    width = x_max - x_min\n",
    "    height = y_max - y_min\n",
    "\n",
    "    # Нормализуем координаты относительно размеров изображения\n",
    "    x_center /= img_width\n",
    "    y_center /= img_height\n",
    "    width /= img_width\n",
    "    height /= img_height\n",
    "\n",
    "    return x_center, y_center, width, height\n",
    "\n",
    "def process_annotations(annotations, img_width, img_height):\n",
    "    yolo_annotations = []\n",
    "    for ann in annotations:\n",
    "        x_min, y_min, x_max, y_max, label = ann\n",
    "        x_center, y_center, width, height = convert_to_yolo_format(x_min, y_min, x_max, y_max, img_width, img_height)\n",
    "        yolo_annotations.append((label, x_center, y_center, width, height))\n",
    "    return yolo_annotations\n",
    "\n",
    "def process_folder(annotations_folder, images_folder, output_folder, img_width, img_height):\n",
    "    # Создаем папку для выходных файлов, если она не существует\n",
    "    if not os.path.exists(output_folder):\n",
    "        os.makedirs(output_folder)\n",
    "\n",
    "    # Проходим по всем файлам аннотаций в папке\n",
    "    for ann_file in os.listdir(annotations_folder):\n",
    "        if ann_file.endswith(\".txt\"):\n",
    "            # Полный путь к файлу аннотаций\n",
    "            ann_path = os.path.join(annotations_folder, ann_file)\n",
    "\n",
    "            # Читаем аннотации из файла\n",
    "            with open(ann_path, 'r') as f:\n",
    "                annotations = []\n",
    "                for line in f:\n",
    "                    parts = line.strip().split()\n",
    "                    # Удаляем запятые и преобразуем в числа\n",
    "                    x_min = int(parts[0].replace(',', ''))\n",
    "                    y_min = int(parts[1].replace(',', ''))\n",
    "                    x_max = int(parts[2].replace(',', ''))\n",
    "                    y_max = int(parts[3].replace(',', ''))\n",
    "                    label = parts[4].strip('\"')\n",
    "                    annotations.append((x_min, y_min, x_max, y_max, label))\n",
    "\n",
    "            # Преобразуем аннотации в формат YOLO\n",
    "            yolo_annotations = process_annotations(annotations, img_width, img_height)\n",
    "\n",
    "            # Сохраняем результат в новый файл\n",
    "            output_path = os.path.join(output_folder, ann_file)\n",
    "            with open(output_path, 'w') as f:\n",
    "                for ann in yolo_annotations:\n",
    "                    label, x_center, y_center, width, height = ann\n",
    "                    f.write(f\"{label} {x_center:.6f} {y_center:.6f} {width:.6f} {height:.6f}\\n\")\n",
    "\n",
    "\n",
    "# Пример использования\n",
    "annotations_folder = r\"C:\\Users\\abram\\DataspellProjects\\FinetuningEasyOCR\\archive\\val\\true\"  # Папка с исходными аннотациями\n",
    "images_folder = r\"C:\\Users\\abram\\DataspellProjects\\FinetuningEasyOCR\\archive\\val\\images\"            # Папка с изображениями (для получения размеров)\n",
    "output_folder = r\"C:\\Users\\abram\\DataspellProjects\\FinetuningEasyOCR\\archive\\val\\labels\"  # Папка для сохранения аннотаций в формате YOLO\n",
    "\n",
    "# Предположим, что размеры изображения 640x480\n",
    "img_width = 640\n",
    "img_height = 480\n",
    "\n",
    "# Обрабатываем все файлы в папке\n",
    "process_folder(annotations_folder, images_folder, output_folder, img_width, img_height)\n",
    "\n",
    "print(f\"Аннотации преобразованы и сохранены в папку: {output_folder}\")"
   ],
   "id": "5b3d104d08f5ac65",
   "outputs": [
    {
     "name": "stdout",
     "output_type": "stream",
     "text": [
      "Аннотации преобразованы и сохранены в папку: C:\\Users\\abram\\DataspellProjects\\FinetuningEasyOCR\\archive\\val\\labels\n"
     ]
    }
   ],
   "execution_count": 6
  },
  {
   "metadata": {},
   "cell_type": "code",
   "outputs": [],
   "execution_count": null,
   "source": "",
   "id": "198adc31f1caeee5"
  }
 ],
 "metadata": {
  "kernelspec": {
   "display_name": "Python 3",
   "language": "python",
   "name": "python3"
  },
  "language_info": {
   "codemirror_mode": {
    "name": "ipython",
    "version": 2
   },
   "file_extension": ".py",
   "mimetype": "text/x-python",
   "name": "python",
   "nbconvert_exporter": "python",
   "pygments_lexer": "ipython2",
   "version": "2.7.6"
  }
 },
 "nbformat": 4,
 "nbformat_minor": 5
}
