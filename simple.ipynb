{
 "cells": [
  {
   "metadata": {
    "ExecuteTime": {
     "end_time": "2025-01-12T19:32:49.168844Z",
     "start_time": "2025-01-12T19:32:49.160537Z"
    }
   },
   "cell_type": "code",
   "source": "from pathlib import Path",
   "id": "2aad59aac2d47838",
   "outputs": [],
   "execution_count": 5
  },
  {
   "metadata": {
    "ExecuteTime": {
     "end_time": "2025-01-12T19:33:05.947881Z",
     "start_time": "2025-01-12T19:33:05.944474Z"
    }
   },
   "cell_type": "code",
   "source": [
    "# Пути к папкам\n",
    "labels_folder = Path(\"C:/Users/abram/DataspellProjects/FinetuningEasyOCR/dataset/ch4_test_localization_transcription_gt\")\n",
    "output_labels_folder = Path(\"C:/Users/abram/DataspellProjects/FinetuningEasyOCR/dataset/true_texts\")\n",
    "\n",
    "# Создаем папку для текстовых файлов, если она не существует\n",
    "output_labels_folder.mkdir(parents=True, exist_ok=True)"
   ],
   "id": "2e4c9d07d046d385",
   "outputs": [],
   "execution_count": 6
  },
  {
   "metadata": {
    "ExecuteTime": {
     "end_time": "2025-01-12T19:33:14.375332Z",
     "start_time": "2025-01-12T19:33:13.986180Z"
    }
   },
   "cell_type": "code",
   "source": [
    "# Функция для извлечения текста из файла разметки\n",
    "def extract_text_from_label(label_path):\n",
    "    words = []\n",
    "    with open(label_path, \"r\", encoding=\"utf-8\") as file:\n",
    "        for line in file:\n",
    "            parts = line.strip().split(\",\")\n",
    "            word = parts[-1]\n",
    "            if word != \"###\":  # Пропускаем \"неразборчивые\" слова\n",
    "                words.append(word.strip())\n",
    "    return words\n",
    "\n",
    "# Перебираем все файлы разметки\n",
    "for label_file in labels_folder.iterdir():\n",
    "    if label_file.suffix == \".txt\":\n",
    "        # Извлекаем имя изображения из имени файла разметки\n",
    "        image_name = label_file.stem.replace(\"gt_\", \"\")\n",
    "        # Формируем путь для нового файла с текстом\n",
    "        output_file = output_labels_folder / f\"{image_name}.txt\"\n",
    "\n",
    "        # Извлекаем текст из разметки и записываем его в файл\n",
    "        words = extract_text_from_label(label_file)\n",
    "        with open(output_file, \"w\", encoding=\"utf-8\") as out_file:\n",
    "            out_file.write(\"\\n\".join(words))\n",
    "\n",
    "print(\"Генерация файлов с текстом завершена!\")"
   ],
   "id": "959a27bdbe8098b8",
   "outputs": [
    {
     "name": "stdout",
     "output_type": "stream",
     "text": [
      "Генерация файлов с текстом завершена!\n"
     ]
    }
   ],
   "execution_count": 7
  },
  {
   "metadata": {},
   "cell_type": "code",
   "outputs": [],
   "execution_count": null,
   "source": "",
   "id": "db56935fcb628ed"
  }
 ],
 "metadata": {
  "kernelspec": {
   "display_name": "Python 3",
   "language": "python",
   "name": "python3"
  },
  "language_info": {
   "codemirror_mode": {
    "name": "ipython",
    "version": 2
   },
   "file_extension": ".py",
   "mimetype": "text/x-python",
   "name": "python",
   "nbconvert_exporter": "python",
   "pygments_lexer": "ipython2",
   "version": "2.7.6"
  }
 },
 "nbformat": 4,
 "nbformat_minor": 5
}
